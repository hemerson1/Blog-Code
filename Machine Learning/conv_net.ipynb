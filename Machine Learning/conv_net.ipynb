{
 "cells": [
  {
   "cell_type": "markdown",
   "metadata": {},
   "source": [
    "\n",
    "### Information\n",
    "Basic Implementation for MNIST and CNN was modifed from [here](https://medium.com/@nutanbhogendrasharma/pytorch-convolutional-neural-network-with-mnist-dataset-4e8a4265e118). \n",
    "\n",
    "### Extensions\n",
    "Re-implement without auto-differentation and calculate back-propagation."
   ]
  },
  {
   "cell_type": "code",
   "execution_count": 3,
   "metadata": {},
   "outputs": [],
   "source": [
    "\"\"\"Load the MNIST Dataset\"\"\"\n",
    "\n",
    "from torchvision import datasets\n",
    "from torchvision.transforms import ToTensor\n",
    "from torch.utils.data import DataLoader\n",
    "\n",
    "# Instantiate dataset objects\n",
    "train_data = datasets.MNIST(\n",
    "    root='data', train=True, transform=ToTensor(), download=True)\n",
    "test_data = datasets.MNIST(\n",
    "    root='data',train=False, transform=ToTensor())\n",
    "\n",
    "# set dataloaders\n",
    "train_loader = DataLoader(\n",
    "    train_data, batch_size=100, shuffle=True, num_workers=1)\n",
    "test_loader = DataLoader(\n",
    "    test_data, batch_size=100, shuffle=True, num_workers=1)"
   ]
  },
  {
   "cell_type": "code",
   "execution_count": 33,
   "metadata": {},
   "outputs": [
    {
     "name": "stdout",
     "output_type": "stream",
     "text": [
      "Epoch: [1/1], Loss 0.0707\n",
      "Accuracy: 97.68\n"
     ]
    }
   ],
   "source": [
    "\"\"\"\n",
    "Build a convolutional network. \n",
    "\"\"\"\n",
    "\n",
    "import torch\n",
    "import torch.nn as nn \n",
    "from torch.autograd import Variable\n",
    "\n",
    "class CNN(nn.Module):\n",
    "    \"\"\"Convolutional Neural Network (with custom layer)\"\"\"\n",
    "    def __init__(\n",
    "        self, stride=1, padding=2, kernel_size=5):\n",
    "        super(CNN, self).__init__()\n",
    "\n",
    "        # create convolutional blocks\n",
    "        self.conv1 = nn.Sequential(         \n",
    "            custom_Conv2d(1, 16, kernel_size, stride, padding),                              \n",
    "            nn.ReLU(),                      \n",
    "            nn.MaxPool2d(kernel_size=2),    \n",
    "        )\n",
    "        self.conv2 = nn.Sequential(         \n",
    "            custom_Conv2d(16, 32, kernel_size, stride, padding),     \n",
    "            nn.ReLU(),                      \n",
    "            nn.MaxPool2d(2),                \n",
    "        )   \n",
    "\n",
    "        # outputs: 10 classes\n",
    "        self.out = nn.Linear(32*7*7, 10)\n",
    "\n",
    "    def instantiate(self, loss_func, optimizer):\n",
    "        self.loss_func = loss_func\n",
    "        self.optimizer = optimizer\n",
    "\n",
    "    def forward(self, x):\n",
    "        x = self.conv1(x)\n",
    "        x = self.conv2(x)\n",
    "        x = torch.flatten(x, start_dim=1)    \n",
    "        x = self.out(x)\n",
    "        return x\n",
    "\n",
    "\n",
    "def train_cnn(num_epochs, model, train_loader, device=\"cpu\"):\n",
    "    \"\"\"Training Loop for CNN\"\"\"\n",
    "    \n",
    "    model.train()\n",
    "    for epoch in range(num_epochs):\n",
    "        loss = 0 \n",
    "        for i, (images, labels) in enumerate(train_loader):\n",
    "            \n",
    "            # make predictions\n",
    "            output = model(images.to(device))             \n",
    "            loss = model.loss_func(output, labels.to(device))\n",
    "            \n",
    "            # backpropagation   \n",
    "            model.optimizer.zero_grad()            \n",
    "            loss.backward()          \n",
    "            model.optimizer.step()                \n",
    "            \n",
    "            # log progress\n",
    "            loss += float(loss.item())\n",
    "\n",
    "        print(f'Epoch: [{epoch+1}/{num_epochs}], Loss {loss.item():.4f}')\n",
    "\n",
    "def test_cnn(model, test_loader, device=\"cpu\"):\n",
    "    \"\"\"Testing loop for CNN\"\"\"\n",
    "\n",
    "    model.eval()\n",
    "    with torch.no_grad():\n",
    "        correct = 0\n",
    "        for images, labels in test_loader:\n",
    "            test_output = model(images.to(device))\n",
    "            pred_y = torch.max(test_output, 1)[1].data.squeeze()\n",
    "            correct += float((pred_y == labels).sum().item())  \n",
    "\n",
    "        print(f'Accuracy: {correct/len(test_loader.dataset)*100}')\n",
    "\n",
    "# set parameters\n",
    "device = \"cpu\"\n",
    "epochs = 1\n",
    "\n",
    "# instantiate the model\n",
    "model = CNN()\n",
    "model.to(device)\n",
    "model.instantiate(\n",
    "    loss_func=nn.CrossEntropyLoss(),\n",
    "    optimizer=torch.optim.Adam(\n",
    "        model.parameters(), lr=0.01) \n",
    ")\n",
    "\n",
    "# run training and test loop\n",
    "train_cnn(epochs, model, train_loader, device=device)\n",
    "test_cnn(model, test_loader, device=device)"
   ]
  },
  {
   "cell_type": "code",
   "execution_count": 38,
   "metadata": {},
   "outputs": [
    {
     "name": "stdout",
     "output_type": "stream",
     "text": [
      "Prediction number: [5 8 3 6 1 3 0 1 9 7]\n",
      "Actual number: [5 8 3 6 1 3 0 1 9 7]\n"
     ]
    }
   ],
   "source": [
    "\"\"\"Visualise Predictions\"\"\"\n",
    "\n",
    "# get a small sample\n",
    "sample = next(iter(test_loader))\n",
    "imgs, lbls = sample\n",
    "\n",
    "# compare to actual predictions\n",
    "actual_number = lbls[:10].numpy()\n",
    "test_output = model(imgs[:10])\n",
    "pred_y = torch.max(test_output, 1)[1].data.numpy().squeeze()\n",
    "\n",
    "# visualise\n",
    "print(f'Prediction number: {pred_y}')\n",
    "print(f'Actual number: {actual_number}')"
   ]
  }
 ],
 "metadata": {
  "kernelspec": {
   "display_name": "Python 3.10.9 ('blog')",
   "language": "python",
   "name": "python3"
  },
  "language_info": {
   "codemirror_mode": {
    "name": "ipython",
    "version": 3
   },
   "file_extension": ".py",
   "mimetype": "text/x-python",
   "name": "python",
   "nbconvert_exporter": "python",
   "pygments_lexer": "ipython3",
   "version": "3.10.9"
  },
  "orig_nbformat": 4,
  "vscode": {
   "interpreter": {
    "hash": "e4b7b588e6bfb68f4f752a82048e9ba8bb5e074539e2d8a8a102207c0ae4a2da"
   }
  }
 },
 "nbformat": 4,
 "nbformat_minor": 2
}
